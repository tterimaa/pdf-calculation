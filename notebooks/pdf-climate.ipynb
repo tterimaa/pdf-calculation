{
 "cells": [
  {
   "cell_type": "markdown",
   "metadata": {},
   "source": [
    "# Climate change impact factors \n",
    "\n",
    "Climate change impact factor calculation is easier, since regionality does not have to be taken into account. Thus the calculation simplifies to taking the consumption based impact factors from exiobase and multiplying them by characterisation factors of different ecosystems (terrestrial and aquatic) from lc-impact.\n",
    "\n",
    "NOTE: Climate change impact factor calculation method is not clear. The paper states: \"In terms of the biodiversity impacts of climate change, we take into account carbon dioxide, methane, fossil methane and nitrous oxide. We chose impact factors that take all effects into account for a period of 100 years for both terrestrial and aquatic ecosystems(42). With the spatial component missing from the climate change biodiversity impact analyses, we then multiplied the biodiversity impact factor of each gas with its respective counterpart factor in EXIOBASE.\"\n",
    "However, in Table S5 \"Climate change midpoint | ILCD recommended CF | Global warming potential 100 years\" (found from impacts folder) is defined as the stressore name in exiobase. It's not clear what 'respective counterpart factor in EXIOBASE' refers to exactly.\n",
    "\n",
    "Exiobase categories:\n",
    "- (Check groupings from the code below)\n",
    "\n",
    "LC-Impact stressors\n",
    "- Climate change (Terrestrial ecosystems (PDF/C))"
   ]
  },
  {
   "cell_type": "code",
   "execution_count": 12,
   "metadata": {},
   "outputs": [],
   "source": [
    "# import required libraries\n",
    "import pymrio\n",
    "import numpy as np\n",
    "import pandas as pd\n",
    "import pycountry as pyc\n",
    "import json\n",
    "\n",
    "# load arguments\n",
    "with open(\"../arguments.json\", \"r\") as f:\n",
    "    arguments = json.load(f)"
   ]
  },
  {
   "cell_type": "code",
   "execution_count": 13,
   "metadata": {},
   "outputs": [],
   "source": [
    "# exiobase 2019 is used for impact factors\n",
    "exio3_19 = pymrio.parse_exiobase3(path=arguments[\"exio_19_path\"])"
   ]
  },
  {
   "cell_type": "code",
   "execution_count": 14,
   "metadata": {},
   "outputs": [
    {
     "data": {
      "text/html": [
       "<div>\n",
       "<style scoped>\n",
       "    .dataframe tbody tr th:only-of-type {\n",
       "        vertical-align: middle;\n",
       "    }\n",
       "\n",
       "    .dataframe tbody tr th {\n",
       "        vertical-align: top;\n",
       "    }\n",
       "\n",
       "    .dataframe thead th {\n",
       "        text-align: right;\n",
       "    }\n",
       "</style>\n",
       "<table border=\"1\" class=\"dataframe\">\n",
       "  <thead>\n",
       "    <tr style=\"text-align: right;\">\n",
       "      <th></th>\n",
       "      <th>Substance</th>\n",
       "      <th>All effects 100yrs (terrestrial)</th>\n",
       "      <th>All effects 100yrs (aquatic)</th>\n",
       "    </tr>\n",
       "  </thead>\n",
       "  <tbody>\n",
       "    <tr>\n",
       "      <th>0</th>\n",
       "      <td>Carbon dioxide</td>\n",
       "      <td>1.759831e-15</td>\n",
       "      <td>5.469745e-16</td>\n",
       "    </tr>\n",
       "    <tr>\n",
       "      <th>1</th>\n",
       "      <td>Methane</td>\n",
       "      <td>4.927527e-14</td>\n",
       "      <td>1.531529e-14</td>\n",
       "    </tr>\n",
       "    <tr>\n",
       "      <th>2</th>\n",
       "      <td>Fossil methane</td>\n",
       "      <td>5.279493e-14</td>\n",
       "      <td>1.640923e-14</td>\n",
       "    </tr>\n",
       "    <tr>\n",
       "      <th>3</th>\n",
       "      <td>Nitrous oxide</td>\n",
       "      <td>4.663552e-13</td>\n",
       "      <td>1.449482e-13</td>\n",
       "    </tr>\n",
       "  </tbody>\n",
       "</table>\n",
       "</div>"
      ],
      "text/plain": [
       "        Substance  All effects 100yrs (terrestrial)  \\\n",
       "0  Carbon dioxide                      1.759831e-15   \n",
       "1         Methane                      4.927527e-14   \n",
       "2  Fossil methane                      5.279493e-14   \n",
       "3   Nitrous oxide                      4.663552e-13   \n",
       "\n",
       "   All effects 100yrs (aquatic)  \n",
       "0                  5.469745e-16  \n",
       "1                  1.531529e-14  \n",
       "2                  1.640923e-14  \n",
       "3                  1.449482e-13  "
      ]
     },
     "execution_count": 14,
     "metadata": {},
     "output_type": "execute_result"
    }
   ],
   "source": [
    "# load and prepare lc-impact data\n",
    "lci = pd.read_excel(arguments[\"lc_impact_path\"] + \"/2-climate change/Climate change CFs.xlsx\", sheet_name=6, header=[0,1])\n",
    "# take only sixth column\n",
    "lci = lci.iloc[:4, [0, 6, 10]]\n",
    "lci.columns = [' '.join(col).strip() for col in lci.columns]\n",
    "lci.rename(columns={lci.columns[0]: \"Substance\", lci.columns[1]: \"All effects 100yrs (terrestrial)\", lci.columns[2]: \"All effects 100yrs (aquatic)\"}, inplace=True)\n",
    "lci"
   ]
  },
  {
   "cell_type": "markdown",
   "metadata": {},
   "source": [
    "## Calculate climate change impact factors\n",
    "1. Aggregate relevant stressors from exiobase (correct stressors unclear)\n",
    "2. Multiply the aggregated row with either terrestrial or aquatic factor of the given category\n",
    "3. Combine the factors of different stressors into two categories (aquatic and terrestrial)"
   ]
  },
  {
   "cell_type": "code",
   "execution_count": 13,
   "metadata": {},
   "outputs": [],
   "source": [
    "# TODO: this grouping should be checked\n",
    "groups = exio3_19.satellite.get_index(as_dict=True, grouping_pattern={\n",
    "    \"CO2.*\": \"CO2 - Total\",\n",
    "    \"CH4 - waste - air\": \"CH4\",\n",
    "    \"CH4 - agriculture - air\": \"CH4\",\n",
    "    \"CH4 - non combustion - Oil refinery - air\": \"CH4 fossil\",\n",
    "    \"CH4 - non combustion - Mining of sub-bituminous coal - air\": \"CH4 fossil\",\n",
    "    \"CH4 - non combustion - Mining of lignite (brown coal) - air\": \"CH4 fossil\",\n",
    "    \"CH4 - non combustion - Mining of antracite - air\": \"CH4 fossil\",\n",
    "    \"CH4 - non combustion - Mining of coking coal - air\": \"CH4 fossil\",\n",
    "    \"CH4 - non combustion - Mining of bituminous coal - air\": \"CH4 fossil\",\n",
    "    \"CH4 - non combustion - Extraction/production of (natural) gas - air\": \"CH4 fossil\",\n",
    "    \"CH4 - non combustion - Extraction/production of crude oil\": \"CH4 fossil\", \n",
    "    \"CH4 - combustion - air\": \"CH4 fossil\",\n",
    "    \"NOx.*\": \"NOx - Total\",\n",
    "    })\n",
    "\n",
    "exio3_19.satellite_agg = exio3_19.satellite.copy(new_name=\"Aggregated CO2 accounts\")\n",
    "\n",
    "for df_name, df in zip(exio3_19.satellite_agg.get_DataFrame(data=False, with_unit=True, with_population=False),\n",
    "exio3_19.satellite_agg.get_DataFrame(data=True, with_unit=True, with_population=False)):\n",
    "    if df_name == \"unit\":\n",
    "        exio3_19.satellite_agg.__dict__[df_name] = df.groupby(groups).apply(lambda x: \" & \".join(x.unit.unique()))\n",
    "    else:\n",
    "        exio3_19.satellite_agg.__dict__[df_name] = df.groupby(groups).sum()"
   ]
  },
  {
   "cell_type": "code",
   "execution_count": 14,
   "metadata": {},
   "outputs": [
    {
     "data": {
      "text/plain": [
       "region  sector                                           \n",
       "AT      Paddy rice                                                0.000000\n",
       "        Wheat                                                831730.023474\n",
       "        Cereal grains nec                                    393237.244108\n",
       "        Vegetables, fruit, nuts                              152094.453476\n",
       "        Oil seeds                                            405632.138550\n",
       "                                                                 ...      \n",
       "WM      Membership organisation services n.e.c. (91)         371941.611917\n",
       "        Recreational, cultural and sporting services (92)    368443.008485\n",
       "        Other services (93)                                  463759.404543\n",
       "        Private households with employed persons (95)        195273.005683\n",
       "        Extra-territorial organizations and bodies                0.000000\n",
       "Name: CO2 - Total, Length: 9800, dtype: float64"
      ]
     },
     "execution_count": 14,
     "metadata": {},
     "output_type": "execute_result"
    }
   ],
   "source": [
    "exio3_19.satellite_agg.M.loc['CO2 - Total']"
   ]
  },
  {
   "cell_type": "code",
   "execution_count": 60,
   "metadata": {},
   "outputs": [
    {
     "data": {
      "text/plain": [
       "region  sector                                           \n",
       "AT      Paddy rice                                              0.000000\n",
       "        Wheat                                                 238.174076\n",
       "        Cereal grains nec                                     195.946451\n",
       "        Vegetables, fruit, nuts                               178.093943\n",
       "        Oil seeds                                             155.410456\n",
       "                                                                ...     \n",
       "WM      Membership organisation services n.e.c. (91)         1270.246314\n",
       "        Recreational, cultural and sporting services (92)    3585.110573\n",
       "        Other services (93)                                  5019.349385\n",
       "        Private households with employed persons (95)        1226.385321\n",
       "        Extra-territorial organizations and bodies              0.000000\n",
       "Name: CH4, Length: 9800, dtype: float64"
      ]
     },
     "execution_count": 60,
     "metadata": {},
     "output_type": "execute_result"
    }
   ],
   "source": [
    "exio3_19.satellite_agg.M.loc['CH4']"
   ]
  },
  {
   "cell_type": "code",
   "execution_count": 61,
   "metadata": {},
   "outputs": [
    {
     "data": {
      "text/plain": [
       "region  sector                                           \n",
       "AT      Paddy rice                                              0.000000\n",
       "        Wheat                                                1178.043340\n",
       "        Cereal grains nec                                     962.402000\n",
       "        Vegetables, fruit, nuts                               358.712271\n",
       "        Oil seeds                                             509.837701\n",
       "                                                                ...     \n",
       "WM      Membership organisation services n.e.c. (91)          508.177642\n",
       "        Recreational, cultural and sporting services (92)     579.070489\n",
       "        Other services (93)                                   850.785437\n",
       "        Private households with employed persons (95)         382.501080\n",
       "        Extra-territorial organizations and bodies              0.000000\n",
       "Name: CH4 fossil, Length: 9800, dtype: float64"
      ]
     },
     "execution_count": 61,
     "metadata": {},
     "output_type": "execute_result"
    }
   ],
   "source": [
    "exio3_19.satellite_agg.M.loc['CH4 fossil']"
   ]
  },
  {
   "cell_type": "code",
   "execution_count": 62,
   "metadata": {},
   "outputs": [
    {
     "data": {
      "text/plain": [
       "region  sector                                           \n",
       "AT      Paddy rice                                              0.000000\n",
       "        Wheat                                                5481.644986\n",
       "        Cereal grains nec                                    2989.027420\n",
       "        Vegetables, fruit, nuts                               709.596784\n",
       "        Oil seeds                                            3388.733276\n",
       "                                                                ...     \n",
       "WM      Membership organisation services n.e.c. (91)         1172.429865\n",
       "        Recreational, cultural and sporting services (92)    1173.160911\n",
       "        Other services (93)                                  1376.118654\n",
       "        Private households with employed persons (95)         716.157791\n",
       "        Extra-territorial organizations and bodies              0.000000\n",
       "Name: NOx - Total, Length: 9800, dtype: float64"
      ]
     },
     "execution_count": 62,
     "metadata": {},
     "output_type": "execute_result"
    }
   ],
   "source": [
    "exio3_19.satellite_agg.M.loc['NOx - Total']"
   ]
  },
  {
   "cell_type": "code",
   "execution_count": null,
   "metadata": {},
   "outputs": [
    {
     "data": {
      "text/plain": [
       "region  sector                                           \n",
       "AT      Paddy rice                                           0.000000e+00\n",
       "        Wheat                                                1.272468e-09\n",
       "        Cereal grains nec                                    6.671383e-10\n",
       "        Vegetables, fruit, nuts                              1.946603e-10\n",
       "        Oil seeds                                            7.238076e-10\n",
       "                                                                 ...     \n",
       "WM      Membership organisation services n.e.c. (91)         4.011772e-10\n",
       "        Recreational, cultural and sporting services (92)    4.359856e-10\n",
       "        Other services (93)                                  5.439641e-10\n",
       "        Private households with employed persons (95)        2.356742e-10\n",
       "        Extra-territorial organizations and bodies           0.000000e+00\n",
       "Length: 9800, dtype: float64"
      ]
     },
     "execution_count": 63,
     "metadata": {},
     "output_type": "execute_result"
    }
   ],
   "source": [
    "# calculate aquatic factors\n",
    "aquatic = exio3_19.satellite_agg.M.loc['CO2 - Total'] * lci['All effects 100yrs (aquatic)'].values[0] + \\\n",
    "           exio3_19.satellite_agg.M.loc['CH4'] * lci['All effects 100yrs (aquatic)'].values[1] + \\\n",
    "           exio3_19.satellite_agg.M.loc['CH4 fossil'] * lci['All effects 100yrs (aquatic)'].values[2] + \\\n",
    "           exio3_19.satellite_agg.M.loc['NOx - Total'] * lci['All effects 100yrs (aquatic)'].values[3]\n",
    "aquatic"
   ]
  },
  {
   "cell_type": "code",
   "execution_count": 68,
   "metadata": {},
   "outputs": [
    {
     "data": {
      "text/plain": [
       "region  sector                                           \n",
       "AT      Paddy rice                                           0.000000e+00\n",
       "        Wheat                                                4.094029e-09\n",
       "        Cereal grains nec                                    2.146445e-09\n",
       "        Vegetables, fruit, nuts                              6.262985e-10\n",
       "        Oil seeds                                            2.328772e-09\n",
       "                                                                 ...     \n",
       "WM      Membership organisation services n.e.c. (91)         1.290744e-09\n",
       "        Recreational, cultural and sporting services (92)    1.402736e-09\n",
       "        Other services (93)                                  1.750145e-09\n",
       "        Private households with employed persons (95)        7.582560e-10\n",
       "        Extra-territorial organizations and bodies           0.000000e+00\n",
       "Length: 9800, dtype: float64"
      ]
     },
     "execution_count": 68,
     "metadata": {},
     "output_type": "execute_result"
    }
   ],
   "source": [
    "# calculate terrestrial factors\n",
    "terrestrial = exio3_19.satellite_agg.M.loc['CO2 - Total'] * lci['All effects 100yrs (terrestrial)'].values[0] + \\\n",
    "           exio3_19.satellite_agg.M.loc['CH4'] * lci['All effects 100yrs (terrestrial)'].values[1] + \\\n",
    "           exio3_19.satellite_agg.M.loc['CH4 fossil'] * lci['All effects 100yrs (terrestrial)'].values[2] + \\\n",
    "           exio3_19.satellite_agg.M.loc['NOx - Total'] * lci['All effects 100yrs (terrestrial)'].values[3]\n",
    "terrestrial"
   ]
  },
  {
   "cell_type": "code",
   "execution_count": 69,
   "metadata": {},
   "outputs": [],
   "source": [
    "pd.DataFrame(aquatic).to_csv(\"csv/pdf-climate-aquatic.csv\", index=True)\n",
    "pd.DataFrame(terrestrial).to_csv(\"csv/pdf-climate-terrestrial.csv\", index=True)"
   ]
  }
 ],
 "metadata": {
  "kernelspec": {
   "display_name": "venv",
   "language": "python",
   "name": "python3"
  },
  "language_info": {
   "codemirror_mode": {
    "name": "ipython",
    "version": 3
   },
   "file_extension": ".py",
   "mimetype": "text/x-python",
   "name": "python",
   "nbconvert_exporter": "python",
   "pygments_lexer": "ipython3",
   "version": "3.12.10"
  }
 },
 "nbformat": 4,
 "nbformat_minor": 2
}
